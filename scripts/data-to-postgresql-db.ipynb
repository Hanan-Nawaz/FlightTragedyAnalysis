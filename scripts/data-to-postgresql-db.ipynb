{
 "cells": [
  {
   "cell_type": "code",
   "execution_count": 1,
   "id": "4e348889",
   "metadata": {},
   "outputs": [
    {
     "name": "stdout",
     "output_type": "stream",
     "text": [
      "Requirement already satisfied: pandas in /Library/Frameworks/Python.framework/Versions/3.11/lib/python3.11/site-packages (2.0.2)\n",
      "Requirement already satisfied: python-dateutil>=2.8.2 in /Library/Frameworks/Python.framework/Versions/3.11/lib/python3.11/site-packages (from pandas) (2.8.2)\n",
      "Requirement already satisfied: pytz>=2020.1 in /Library/Frameworks/Python.framework/Versions/3.11/lib/python3.11/site-packages (from pandas) (2023.3)\n",
      "Requirement already satisfied: tzdata>=2022.1 in /Library/Frameworks/Python.framework/Versions/3.11/lib/python3.11/site-packages (from pandas) (2023.3)\n",
      "Requirement already satisfied: numpy>=1.21.0 in /Library/Frameworks/Python.framework/Versions/3.11/lib/python3.11/site-packages (from pandas) (1.25.0)\n",
      "Requirement already satisfied: six>=1.5 in /Library/Frameworks/Python.framework/Versions/3.11/lib/python3.11/site-packages (from python-dateutil>=2.8.2->pandas) (1.16.0)\n",
      "\n",
      "\u001b[1m[\u001b[0m\u001b[34;49mnotice\u001b[0m\u001b[1;39;49m]\u001b[0m\u001b[39;49m A new release of pip is available: \u001b[0m\u001b[31;49m23.1.2\u001b[0m\u001b[39;49m -> \u001b[0m\u001b[32;49m23.2.1\u001b[0m\n",
      "\u001b[1m[\u001b[0m\u001b[34;49mnotice\u001b[0m\u001b[1;39;49m]\u001b[0m\u001b[39;49m To update, run: \u001b[0m\u001b[32;49mpip install --upgrade pip\u001b[0m\n"
     ]
    }
   ],
   "source": [
    "#installing Pandas\n",
    "!pip install pandas\n",
    "\n",
    "#installing psycopg2 \n",
    "!pip install psycopg2"
   ]
  },
  {
   "cell_type": "code",
   "execution_count": 3,
   "id": "c6277710",
   "metadata": {},
   "outputs": [],
   "source": [
    "#importing pandas\n",
    "import pandas as pd\n",
    "\n",
    "#importing psycopg2\n",
    "impirt psycopg2"
   ]
  },
  {
   "cell_type": "code",
   "execution_count": 13,
   "id": "a4a06cd0",
   "metadata": {},
   "outputs": [],
   "source": [
    "#connecting with database\n",
    "def connect_database():\n",
    "    try: \n",
    "        conn = psycopg2.connect(\n",
    "                dbname = 'flight_crashes',\n",
    "                user = 'root',\n",
    "                password = '',\n",
    "                host = 'localhost'\n",
    "                )\n",
    "        \n",
    "        #creating cursor\n",
    "        cur = conn.cursor()\n",
    "        \n",
    "        return conn, cur\n",
    "    \n",
    "    except psycopg2.Error as e:\n",
    "        print('Error' + str(e))"
   ]
  },
  {
   "cell_type": "code",
   "execution_count": 12,
   "id": "1f7bccb7",
   "metadata": {},
   "outputs": [
    {
     "name": "stdout",
     "output_type": "stream",
     "text": [
      "            Date   Time                                           Location  \\\n",
      "0     09/17/1908  17:18                                Fort Myer, Virginia   \n",
      "1     07/12/1912  06:30                            AtlantiCity, New Jersey   \n",
      "2     08/06/1913    NaN                 Victoria, British Columbia, Canada   \n",
      "3     09/09/1913  18:30                                 Over the North Sea   \n",
      "4     10/17/1913  10:30                         Near Johannisthal, Germany   \n",
      "...          ...    ...                                                ...   \n",
      "5263  05/20/2009  06:30                             Near Madiun, Indonesia   \n",
      "5264  05/26/2009    NaN                  Near Isiro, DemocratiRepubliCongo   \n",
      "5265  06/01/2009  00:15  AtlantiOcean, 570 miles northeast of Natal, Br...   \n",
      "5266  06/07/2009  08:30       Near Port Hope Simpson, Newfoundland, Canada   \n",
      "5267  06/08/2009    NaN                  State of Arunachal Pradesh, India   \n",
      "\n",
      "                             Operator Flight #  \\\n",
      "0                Military - U.S. Army      NaN   \n",
      "1                Military - U.S. Navy      NaN   \n",
      "2                             Private        -   \n",
      "3              Military - German Navy      NaN   \n",
      "4              Military - German Navy      NaN   \n",
      "...                               ...      ...   \n",
      "5263  Military - Indonesian Air Force      NaN   \n",
      "5264                      Service Air      NaN   \n",
      "5265                       Air France      447   \n",
      "5266                       Strait Air      NaN   \n",
      "5267      Military - Indian Air Force      NaN   \n",
      "\n",
      "                                          Route  \\\n",
      "0                                 Demonstration   \n",
      "1                                   Test flight   \n",
      "2                                           NaN   \n",
      "3                                           NaN   \n",
      "4                                           NaN   \n",
      "...                                         ...   \n",
      "5263                           Jakarta - Maduin   \n",
      "5264                               Goma - Isiro   \n",
      "5265                     Rio de Janeiro - Paris   \n",
      "5266  Lourdes de BlanSablon - Port Hope Simpson   \n",
      "5267                         Mechuka for Jorhat   \n",
      "\n",
      "                                  Type Registration cn/In  Aboard  Fatalities  \\\n",
      "0                     Wright Flyer III          NaN     1     2.0         1.0   \n",
      "1                            Dirigible          NaN   NaN     5.0         5.0   \n",
      "2                     Curtiss seaplane          NaN   NaN     1.0         1.0   \n",
      "3               Zeppelin L-1 (airship)          NaN   NaN    20.0        14.0   \n",
      "4               Zeppelin L-2 (airship)          NaN   NaN    30.0        30.0   \n",
      "...                                ...          ...   ...     ...         ...   \n",
      "5263           Lockheed C-130 Hercules       A-1325  1982   112.0        98.0   \n",
      "5264                     Antonov An-26       9Q-CSA  5005     4.0         4.0   \n",
      "5265                   Airbus A330-203       F-GZCP   660   228.0       228.0   \n",
      "5266  Britten-Norman BN-2A-27 Islander      C-FJJR    424     1.0         1.0   \n",
      "5267                     Antonov An-32          NaN   NaN    13.0        13.0   \n",
      "\n",
      "      Ground                                            Summary  \n",
      "0        0.0  During a demonstration flight, a U.S. Army fly...  \n",
      "1        0.0  First U.S. dirigible Akron exploded just offsh...  \n",
      "2        0.0  The first fatal airplane accident in Canada oc...  \n",
      "3        0.0  The airship flew into a thunderstorm and encou...  \n",
      "4        0.0  Hydrogen gas which was being vented was sucked...  \n",
      "...      ...                                                ...  \n",
      "5263     2.0  While on approach, the military transport cras...  \n",
      "5264     NaN  The cargo plane crashed while on approach to I...  \n",
      "5265     0.0  The Airbus went missing over the AtlantiOcean ...  \n",
      "5266     0.0  The air ambulance crashed into hills while att...  \n",
      "5267     0.0  The military transport went missing while en r...  \n",
      "\n",
      "[5268 rows x 13 columns]\n"
     ]
    }
   ],
   "source": [
    "#reading data from CSV\n",
    "data_file = pd.read_csv('../Data/Airplane_Crashes_and_Fatalities_Since_1908.csv')\n",
    "print(data_file)"
   ]
  },
  {
   "cell_type": "code",
   "execution_count": 16,
   "id": "6700cbdb",
   "metadata": {},
   "outputs": [],
   "source": [
    "#adding data to tables\n",
    "def add_data(data_in_row):\n",
    "    \n",
    "    #query for insertion in CrashDate\n",
    "    add_data_crash_date = \"INSERT INTO CrashDate VALUES (%s, %s)\"\n",
    "    \n",
    "    #query for insertion in Casualties\n",
    "    add_data_casualties = \"INSERT INTO Casualties VALUES (%s, %s)\"\n",
    "    \n",
    "    #query for insertion in CrashSummary\n",
    "    add_data_carsh_summary = \"INSERT INTO CrashSummary VALUES (%s)\"\n",
    "    \n",
    "    #query for insertion in Operator\n",
    "    add_data_operator = \"INSERT INTO Opertaor VALUES (%s)\"\n",
    "    \n",
    "    #query for insertion in PlaneType\n",
    "    add_data_plane_type = \"INSERT INTO PlaneType VALUES (%s, %s, %s)\"\n",
    "    \n",
    "    #query for insertion in FlightDetails\n",
    "    add_data_plane_type = \"INSERT INTO FlightDetails VALUES (%s, %s, %s)\"\n",
    "    \n",
    "    #query for insertion in Crash\n",
    "    add_data_plane = \"INSERT INTO Crash VALUES (%s, %s, %s, %s, %s, %s, %s)\"\n",
    "    "
   ]
  },
  {
   "cell_type": "code",
   "execution_count": null,
   "id": "2498d031",
   "metadata": {},
   "outputs": [],
   "source": []
  },
  {
   "cell_type": "code",
   "execution_count": null,
   "id": "2f60da32",
   "metadata": {},
   "outputs": [],
   "source": []
  }
 ],
 "metadata": {
  "kernelspec": {
   "display_name": "Python 3 (ipykernel)",
   "language": "python",
   "name": "python3"
  },
  "language_info": {
   "codemirror_mode": {
    "name": "ipython",
    "version": 3
   },
   "file_extension": ".py",
   "mimetype": "text/x-python",
   "name": "python",
   "nbconvert_exporter": "python",
   "pygments_lexer": "ipython3",
   "version": "3.11.3"
  }
 },
 "nbformat": 4,
 "nbformat_minor": 5
}
