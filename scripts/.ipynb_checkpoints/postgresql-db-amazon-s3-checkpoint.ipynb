{
 "cells": [
  {
   "cell_type": "code",
   "execution_count": 1,
   "id": "4e401e4a",
   "metadata": {},
   "outputs": [
    {
     "name": "stdout",
     "output_type": "stream",
     "text": [
      "Requirement already satisfied: psycopg2 in /Library/Frameworks/Python.framework/Versions/3.11/lib/python3.11/site-packages (2.9.7)\n",
      "\n",
      "\u001b[1m[\u001b[0m\u001b[34;49mnotice\u001b[0m\u001b[1;39;49m]\u001b[0m\u001b[39;49m A new release of pip is available: \u001b[0m\u001b[31;49m23.1.2\u001b[0m\u001b[39;49m -> \u001b[0m\u001b[32;49m23.2.1\u001b[0m\n",
      "\u001b[1m[\u001b[0m\u001b[34;49mnotice\u001b[0m\u001b[1;39;49m]\u001b[0m\u001b[39;49m To update, run: \u001b[0m\u001b[32;49mpip install --upgrade pip\u001b[0m\n",
      "Collecting boto3\n",
      "  Downloading boto3-1.28.53-py3-none-any.whl (135 kB)\n",
      "\u001b[2K     \u001b[90m━━━━━━━━━━━━━━━━━━━━━━━━━━━━━━━━━━━━━\u001b[0m \u001b[32m135.8/135.8 kB\u001b[0m \u001b[31m575.8 kB/s\u001b[0m eta \u001b[36m0:00:00\u001b[0ma \u001b[36m0:00:01\u001b[0m\n",
      "\u001b[?25hCollecting botocore<1.32.0,>=1.31.53 (from boto3)\n",
      "  Downloading botocore-1.31.53-py3-none-any.whl (11.2 MB)\n",
      "\u001b[2K     \u001b[90m━━━━━━━━━━━━━━━━━━━━━━━━━━━━━━━━━━━━━━━━\u001b[0m \u001b[32m11.2/11.2 MB\u001b[0m \u001b[31m1.4 MB/s\u001b[0m eta \u001b[36m0:00:00\u001b[0m00:01\u001b[0m00:01\u001b[0m\n",
      "\u001b[?25hCollecting jmespath<2.0.0,>=0.7.1 (from boto3)\n",
      "  Downloading jmespath-1.0.1-py3-none-any.whl (20 kB)\n",
      "Collecting s3transfer<0.7.0,>=0.6.0 (from boto3)\n",
      "  Downloading s3transfer-0.6.2-py3-none-any.whl (79 kB)\n",
      "\u001b[2K     \u001b[90m━━━━━━━━━━━━━━━━━━━━━━━━━━━━━━━━━━━━━━━\u001b[0m \u001b[32m79.8/79.8 kB\u001b[0m \u001b[31m969.8 kB/s\u001b[0m eta \u001b[36m0:00:00\u001b[0m \u001b[36m0:00:01\u001b[0mm\n",
      "\u001b[?25hRequirement already satisfied: python-dateutil<3.0.0,>=2.1 in /Library/Frameworks/Python.framework/Versions/3.11/lib/python3.11/site-packages (from botocore<1.32.0,>=1.31.53->boto3) (2.8.2)\n",
      "Collecting urllib3<1.27,>=1.25.4 (from botocore<1.32.0,>=1.31.53->boto3)\n",
      "  Downloading urllib3-1.26.16-py2.py3-none-any.whl (143 kB)\n",
      "\u001b[2K     \u001b[90m━━━━━━━━━━━━━━━━━━━━━━━━━━━━━━━━━━━━━━━\u001b[0m \u001b[32m143.1/143.1 kB\u001b[0m \u001b[31m1.4 MB/s\u001b[0m eta \u001b[36m0:00:00\u001b[0ma \u001b[36m0:00:01\u001b[0m\n",
      "\u001b[?25hRequirement already satisfied: six>=1.5 in /Library/Frameworks/Python.framework/Versions/3.11/lib/python3.11/site-packages (from python-dateutil<3.0.0,>=2.1->botocore<1.32.0,>=1.31.53->boto3) (1.16.0)\n",
      "Installing collected packages: urllib3, jmespath, botocore, s3transfer, boto3\n",
      "  Attempting uninstall: urllib3\n",
      "    Found existing installation: urllib3 2.0.5\n",
      "    Uninstalling urllib3-2.0.5:\n",
      "      Successfully uninstalled urllib3-2.0.5\n",
      "Successfully installed boto3-1.28.53 botocore-1.31.53 jmespath-1.0.1 s3transfer-0.6.2 urllib3-1.26.16\n",
      "\n",
      "\u001b[1m[\u001b[0m\u001b[34;49mnotice\u001b[0m\u001b[1;39;49m]\u001b[0m\u001b[39;49m A new release of pip is available: \u001b[0m\u001b[31;49m23.1.2\u001b[0m\u001b[39;49m -> \u001b[0m\u001b[32;49m23.2.1\u001b[0m\n",
      "\u001b[1m[\u001b[0m\u001b[34;49mnotice\u001b[0m\u001b[1;39;49m]\u001b[0m\u001b[39;49m To update, run: \u001b[0m\u001b[32;49mpip install --upgrade pip\u001b[0m\n"
     ]
    }
   ],
   "source": [
    "#installing psycopg2\n",
    "!pip install psycopg2\n",
    "\n",
    "#installing boto3\n",
    "!pip install boto3"
   ]
  },
  {
   "cell_type": "code",
   "execution_count": 3,
   "id": "0324a659",
   "metadata": {},
   "outputs": [],
   "source": [
    "#importing psycopg2\n",
    "import psycopg2\n",
    "\n",
    "#importing boto3\n",
    "import boto3\n",
    "\n",
    "#importing csv\n",
    "import csv"
   ]
  },
  {
   "cell_type": "code",
   "execution_count": 6,
   "id": "fca4251d",
   "metadata": {},
   "outputs": [],
   "source": [
    "#connecting with database\n",
    "def connect_database():\n",
    "    try:\n",
    "        #creting connection\n",
    "        conn = psycopg2.connect(\n",
    "                dbname = 'flight_crashes',\n",
    "                user = 'postgres',\n",
    "                password = '',\n",
    "                host = 'localhost')\n",
    "        \n",
    "        #creating cursor\n",
    "        cur = conn.cursor()\n",
    "        \n",
    "        return conn, cur\n",
    "    \n",
    "    except psycopg2.Error as e:\n",
    "        print('Error ' + str(e))"
   ]
  },
  {
   "cell_type": "code",
   "execution_count": 8,
   "id": "4dbd3d68",
   "metadata": {},
   "outputs": [],
   "source": [
    "#getting data from db tables\n",
    "def getting_data(conn, cur):\n",
    "    \n",
    "    #query for getting data from CrashDate\n",
    "    crash_date_query = \"SELECT * FROM CrashDate\"\n",
    "    \n",
    "    #query for getting data from Casualties\n",
    "    casualties_query = \"SELECT * FROM Casulaties\"\n",
    "    \n",
    "    #query for getting data from CrashSummary\n",
    "    crash_summary_query = \"SELECT * FROM CrashSummary\"\n",
    "    \n",
    "    #query for getting data from Operator\n",
    "    operator_query = \"SELECT * FROM Operator\"\n",
    "    \n",
    "    #query for getting data from PlaneType\n",
    "    plane_type_query = \"SELECT * FROM PlaneType\"\n",
    "    \n",
    "    #query for getting data from FlightDetails\n",
    "    flight_details_query = \"SELECT * FROM FlightDetails\"\n",
    "    \n",
    "    #query for getting data from Crash\n",
    "    crash_query = \"SELECT * FROM Crash\"\n",
    "    \n",
    "    #executing CrashDate and saving data in a variable\n",
    "    cur.execute(crash_date_query)\n",
    "    crash_date_data = cur.fetchall()\n",
    "    \n",
    "    #executing Casualties and saving data in a variable\n",
    "    cur.execute(casualties_query)\n",
    "    casualties_data = cur.fetchall()\n",
    "    \n",
    "    #executing CrashSummary and saving data in a variable\n",
    "    cur.execute(crash_summary_query)\n",
    "    crash_summary_data = cur.fetchall()\n",
    "    \n",
    "    #executing Operator and saving data in a variable\n",
    "    cur.execute(operator_query)\n",
    "    operator_data = cur.fetchall()\n",
    "    \n",
    "    #executing PlaneType and saving data in a variable\n",
    "    cur.execute(plane_type_query)\n",
    "    plane_type_data = cur.fetchall()\n",
    "    \n",
    "    #executing FlightDetails and saving data in a variable\n",
    "    cur.execute(flight_details_query)\n",
    "    flight_details_data = cur.fetchall()\n",
    "    \n",
    "    #executing Crash and saving data in a variable\n",
    "    cur.execute(crash_query)\n",
    "    crash_data = cur.fetchall()\n",
    "    \n",
    "    return [crash_date_data, casualties_data, crash_summary_data, operator_data, plane_type_data,\n",
    "            flight_details_data]\n"
   ]
  },
  {
   "cell_type": "code",
   "execution_count": null,
   "id": "0be99c94",
   "metadata": {},
   "outputs": [],
   "source": []
  }
 ],
 "metadata": {
  "kernelspec": {
   "display_name": "Python 3 (ipykernel)",
   "language": "python",
   "name": "python3"
  },
  "language_info": {
   "codemirror_mode": {
    "name": "ipython",
    "version": 3
   },
   "file_extension": ".py",
   "mimetype": "text/x-python",
   "name": "python",
   "nbconvert_exporter": "python",
   "pygments_lexer": "ipython3",
   "version": "3.11.3"
  }
 },
 "nbformat": 4,
 "nbformat_minor": 5
}
